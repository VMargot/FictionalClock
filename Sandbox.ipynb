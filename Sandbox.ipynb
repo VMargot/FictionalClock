{
 "cells": [
  {
   "cell_type": "code",
   "execution_count": 1,
   "id": "eb34d52f-ed3b-4820-a704-454f2b666ee6",
   "metadata": {},
   "outputs": [],
   "source": [
    "import math\n",
    "from datetime import datetime\n",
    "from suntime import Sun\n",
    "from datetime import timedelta\n",
    "import pandas as pd"
   ]
  },
  {
   "cell_type": "code",
   "execution_count": 2,
   "id": "7dbbfbe5",
   "metadata": {},
   "outputs": [],
   "source": [
    "def get_day_night_durations(date, latitude):\n",
    "    \"\"\"\n",
    "    Calcule les durées du jour et de la nuit en heures pour une date et une latitude données.\n",
    "    \"\"\"\n",
    "    # Latitude en radians\n",
    "    phi = math.radians(latitude)\n",
    "\n",
    "    # Jour de l'année (1 = 1er janvier, 365 = 31 décembre)\n",
    "    day_of_year = date.timetuple().tm_yday\n",
    "\n",
    "    # Déclinaison solaire (en radians)\n",
    "    declination = math.radians(-23.44 * math.cos(2 * math.pi * (day_of_year + 10) / 365))\n",
    "\n",
    "    # Calcul de la durée du jour (en heures)\n",
    "    try:\n",
    "        hour_angle = math.acos(-math.tan(phi) * math.tan(declination))\n",
    "    except ValueError:\n",
    "        # Si la latitude est trop extrême, ajuster (ex : pôles)\n",
    "        hour_angle = 0 if latitude > 66.5 or latitude < -66.5 else math.pi\n",
    "\n",
    "    day_duration = (24 / math.pi) * hour_angle  # Durée du jour en heures\n",
    "    night_duration = 24 - day_duration          # Durée de la nuit en heures\n",
    "\n",
    "    return day_duration, night_duration\n"
   ]
  },
  {
   "cell_type": "code",
   "execution_count": 3,
   "id": "17356e4f",
   "metadata": {},
   "outputs": [],
   "source": [
    "def second_duration(current_time, day_duration, night_duration, latitude, longitude):\n",
    "    \"\"\"\n",
    "    Calcule la durée d'une seconde ajustée. \n",
    "    Oscille autour de 1, avec une amplitude maximale aux solstices et nulle aux équinoxes.\n",
    "    \"\"\"\n",
    "\n",
    "    sun = Sun(latitude, longitude)\n",
    "    # Heure de lever du jour en UTC\n",
    "    today_sunrise = sun.get_local_sunrise_time(current_time)\n",
    "    today_sunset = sun.get_local_sunset_time(current_time + timedelta(days=1))\n",
    "    # Heure actuelle en secondes depuis minuit\n",
    "    time_in_seconds = current_time.hour * 3600 + current_time.minute * 60 + current_time.second\n",
    "    today_sunrise_in_seconde = (today_sunrise.hour + 1) * 3600 + today_sunrise.minute * 60 + today_sunrise.second\n",
    "    today_sunset_in_seconde = (today_sunset.hour + 1) * 3600 + today_sunset.minute * 60 + today_sunset.second\n",
    "\n",
    "    # Lever fictif à 6h (début du jour) et coucher fictif à 18h (fin du jour)\n",
    "    day_start = 6 * 3600  # 6h fictives en secondes\n",
    "    day_end = today_sunrise_in_seconde + day_duration * 3600  # Fin du jour réel\n",
    "    night_start = 18 * 3600  # Début de la nuit réelle\n",
    "    night_end = today_sunset_in_seconde + day_duration * 3600  # Fin de la nuit réelle (minuit fictif revient à 0h)\n",
    "\n",
    "    # Calcul de l'amplitude de l'oscillation (différence relative entre jour et nuit)\n",
    "    total_duration = day_duration + night_duration\n",
    "    amplitude = abs(day_duration - night_duration) / total_duration\n",
    "\n",
    "    # Calcul de la phase (temps écoulé dans le cycle jour/nuit fictif)\n",
    "    if day_start <= time_in_seconds < day_end:  # Phase de jour\n",
    "        t_real_day = (time_in_seconds - day_start) / (day_end - day_start)  # [0, 1]\n",
    "        phase = t_real_day * math.pi  # Phase dans [0, π] pour le jour\n",
    "        modulation = math.sin(phase)  # Sinusoïde croissante et décroissante pendant la journée\n",
    "    elif night_start <= time_in_seconds < night_end:  # Phase de nuit\n",
    "        t_real_night = (time_in_seconds - night_start) / (night_end - night_start)  # [0, 1]\n",
    "        phase = t_real_night * math.pi  # Phase dans [0, π] pour la nuit\n",
    "        modulation = -math.sin(phase)  # Sinusoïde décroissante et croissante pendant la nuit\n",
    "    else:\n",
    "        # Transition improbable, valeur par défaut\n",
    "        modulation = 0\n",
    "\n",
    "    # Ajustement de la durée de la seconde\n",
    "    second_duration = 1 + amplitude * modulation\n",
    "\n",
    "    return second_duration\n"
   ]
  },
  {
   "cell_type": "code",
   "execution_count": 4,
   "id": "36707b4f",
   "metadata": {},
   "outputs": [],
   "source": [
    "def get_fictif_hour(current_time, day_duration, night_duration, latitude, longitude):\n",
    "    sun = Sun(latitude, longitude)\n",
    "\n",
    "    today_sunrise = sun.get_local_sunrise_time(current_time) + timedelta(hours=1)\n",
    "    today_sunset = sun.get_local_sunset_time(current_time + timedelta(days=1)) + timedelta(hours=1)\n",
    "\n",
    "    if current_time > today_sunset:\n",
    "        delta_in_seconds = (current_time - today_sunset).seconds\n",
    "        base_time = datetime.strptime(\"18:00:00\", \"%H:%M:%S\")\n",
    "    else:\n",
    "        delta_in_seconds = (current_time - today_sunrise).seconds\n",
    "        base_time = datetime.strptime(\"06:00:00\", \"%H:%M:%S\")\n",
    "\n",
    "    delta_in_hours = math.ceil(delta_in_seconds / 3600)\n",
    "    seconds_list = []\n",
    "    for i in range(0, delta_in_hours):\n",
    "        time_ = today_sunset + timedelta(hours=i)\n",
    "        duration = second_duration(time_, day_duration, night_duration, latitude, longitude)\n",
    "        if i < delta_in_hours - 1:\n",
    "            seconds_list += [duration] * 3600\n",
    "        else:\n",
    "            seconds_list += [duration] * (delta_in_hours - (delta_in_hours-1) * 3600)\n",
    "    \n",
    "    delta_seconds_fictif = sum(seconds_list)\n",
    "    fictif_hour = base_time + timedelta(seconds=delta_seconds_fictif)\n",
    "\n",
    "    return fictif_hour.strftime('%H:%M:%S')\n",
    "    "
   ]
  },
  {
   "cell_type": "code",
   "execution_count": 5,
   "id": "055141c0",
   "metadata": {},
   "outputs": [
    {
     "name": "stdout",
     "output_type": "stream",
     "text": [
      "Date : 2024-12-20\n",
      "Heure actuelle : 18:58:31.325377\n",
      "Heure fictif : 19:00:00\n",
      "Latitude : 45°\n",
      "Durée du jour : 8.57 heures\n",
      "Durée de la nuit : 15.43 heures\n",
      "Durée d'une seconde (ajustée) : 0.888054 secondes\n"
     ]
    }
   ],
   "source": [
    "# Exemple d'utilisation\n",
    "latitude = 45\n",
    "longitude = 4.8\n",
    "\n",
    "current_time = datetime.now()  # Heure actuelle\n",
    "# current_time = datetime(2024, 11, 20, 5, 40, 00, 0) \n",
    "# Obtenir les durées de jour et de nuit\n",
    "day_duration, night_duration = get_day_night_durations(current_time, latitude)\n",
    "\n",
    "# Calculer la durée d'une seconde à l'heure actuelle\n",
    "duration = second_duration(current_time, day_duration, night_duration, latitude, longitude)\n",
    "\n",
    "fictif_hour = get_fictif_hour(current_time, day_duration, night_duration, latitude, longitude)\n",
    "print(f\"Date : {current_time.date()}\")\n",
    "print(f\"Heure actuelle : {current_time.time()}\")\n",
    "print(f\"Heure fictif : {fictif_hour}\")\n",
    "print(f\"Latitude : {latitude}°\")\n",
    "print(f\"Durée du jour : {day_duration:.2f} heures\")\n",
    "print(f\"Durée de la nuit : {night_duration:.2f} heures\")\n",
    "print(f\"Durée d'une seconde (ajustée) : {duration:.6f} secondes\")"
   ]
  },
  {
   "cell_type": "code",
   "execution_count": 6,
   "id": "7682deeb",
   "metadata": {},
   "outputs": [],
   "source": [
    "dates = []\n",
    "seconds = []\n",
    "heures = []\n",
    "for i in range(0, int(24*365)):\n",
    "    current_time = current_time + timedelta(hours=1)\n",
    "    dates.append(current_time)\n",
    "    day_duration, night_duration = get_day_night_durations(current_time, latitude)\n",
    "    duration = second_duration(current_time, day_duration, night_duration, latitude, longitude)\n",
    "    fictif_hour = get_fictif_hour(current_time, day_duration, night_duration, latitude, longitude)\n",
    "    heures.append(fictif_hour)\n",
    "    seconds.append(duration)"
   ]
  },
  {
   "cell_type": "code",
   "execution_count": 7,
   "id": "85723a1d",
   "metadata": {},
   "outputs": [],
   "source": [
    "df = pd.DataFrame(zip(seconds, heures), index=dates, columns=['Second ajusted', 'Fictional hour'])"
   ]
  },
  {
   "cell_type": "code",
   "execution_count": 8,
   "id": "fe680dae",
   "metadata": {},
   "outputs": [
    {
     "data": {
      "text/plain": [
       "<Axes: >"
      ]
     },
     "execution_count": 8,
     "metadata": {},
     "output_type": "execute_result"
    },
    {
     "data": {
      "image/png": "[encoded data removed]",
      "text/plain": [
       "<Figure size 640x480 with 1 Axes>"
      ]
     },
     "metadata": {},
     "output_type": "display_data"
    }
   ],
   "source": [
    "df['Second ajusted'].plot()"
   ]
  },
  {
   "cell_type": "code",
   "execution_count": 1,
   "id": "7c03265d",
   "metadata": {},
   "outputs": [
    {
     "name": "stdout",
     "output_type": "stream",
     "text": [
      "Timezone: Europe/Paris\n",
      "UTC Offset: GMT +1.0\n"
     ]
    }
   ],
   "source": [
    "from timezonefinder import TimezoneFinder\n",
    "from datetime import datetime\n",
    "import pytz\n",
    "\n",
    "def get_timezone_offset(latitude, longitude):\n",
    "    \"\"\"\n",
    "    Obtenir le fuseau horaire GMT/UTC à partir de la latitude et de la longitude.\n",
    "    \"\"\"\n",
    "    # Trouver le fuseau horaire\n",
    "    tf = TimezoneFinder()\n",
    "    timezone_str = tf.timezone_at(lat=latitude, lng=longitude)\n",
    "\n",
    "    if timezone_str is None:\n",
    "        return None, None\n",
    "\n",
    "    # Récupérer le décalage UTC\n",
    "    timezone = pytz.timezone(timezone_str)\n",
    "    now = datetime.now(timezone)\n",
    "    utc_offset = now.utcoffset().total_seconds() / 3600  # Décalage en heures\n",
    "\n",
    "    return timezone_str, utc_offset\n",
    "\n",
    "# Exemple d'utilisation\n",
    "latitude = 48.8566  # Latitude de Paris\n",
    "longitude = 2.3522  # Longitude de Paris\n",
    "\n",
    "timezone_str, utc_offset = get_timezone_offset(latitude, longitude)\n",
    "\n",
    "if timezone_str:\n",
    "    print(f\"Timezone: {timezone_str}\")\n",
    "    print(f\"UTC Offset: GMT {utc_offset:+.1f}\")\n",
    "else:\n",
    "    print(\"Impossible de déterminer le fuseau horaire.\")\n"
   ]
  },
  {
   "cell_type": "code",
   "execution_count": 2,
   "id": "a154f0fc",
   "metadata": {},
   "outputs": [
    {
     "data": {
      "text/plain": [
       "1.0"
      ]
     },
     "execution_count": 2,
     "metadata": {},
     "output_type": "execute_result"
    }
   ],
   "source": [
    "utc_offset"
   ]
  },
  {
   "cell_type": "code",
   "execution_count": null,
   "id": "37bc441f",
   "metadata": {},
   "outputs": [],
   "source": []
  }
 ],
 "metadata": {
  "kernelspec": {
   "display_name": "venv",
   "language": "python",
   "name": "python3"
  },
  "language_info": {
   "codemirror_mode": {
    "name": "ipython",
    "version": 3
   },
   "file_extension": ".py",
   "mimetype": "text/x-python",
   "name": "python",
   "nbconvert_exporter": "python",
   "pygments_lexer": "ipython3",
   "version": "3.11.6"
  }
 },
 "nbformat": 4,
 "nbformat_minor": 5
}
